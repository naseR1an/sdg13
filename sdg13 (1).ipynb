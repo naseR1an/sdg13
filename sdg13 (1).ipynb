{
 "cells": [
  {
   "cell_type": "code",
   "execution_count": 1,
   "id": "5ae335e1-4857-4490-a7d9-8015a3f3ca4b",
   "metadata": {},
   "outputs": [],
   "source": [
    "# Libraries\n",
    "import pandas as pd\n",
    "import numpy as np\n",
    "import matplotlib.pyplot as plt\n",
    "import seaborn as sns\n",
    "from sklearn.model_selection import train_test_split\n",
    "from sklearn.linear_model import LinearRegression\n",
    "from sklearn.metrics import mean_absolute_error, mean_squared_error, r2_score"
   ]
  },
  {
   "cell_type": "code",
   "execution_count": 9,
   "id": "3d31e3ec-bbbf-473a-8e2f-72dffbd393ec",
   "metadata": {},
   "outputs": [
    {
     "data": {
      "text/html": [
       "<div>\n",
       "<style scoped>\n",
       "    .dataframe tbody tr th:only-of-type {\n",
       "        vertical-align: middle;\n",
       "    }\n",
       "\n",
       "    .dataframe tbody tr th {\n",
       "        vertical-align: top;\n",
       "    }\n",
       "\n",
       "    .dataframe thead th {\n",
       "        text-align: right;\n",
       "    }\n",
       "</style>\n",
       "<table border=\"1\" class=\"dataframe\">\n",
       "  <thead>\n",
       "    <tr style=\"text-align: right;\">\n",
       "      <th></th>\n",
       "      <th>Year</th>\n",
       "      <th>Annual CO₂ emissions (tonnes )</th>\n",
       "    </tr>\n",
       "  </thead>\n",
       "  <tbody>\n",
       "    <tr>\n",
       "      <th>count</th>\n",
       "      <td>20853.000000</td>\n",
       "      <td>2.085300e+04</td>\n",
       "    </tr>\n",
       "    <tr>\n",
       "      <th>mean</th>\n",
       "      <td>1953.339424</td>\n",
       "      <td>1.930517e+08</td>\n",
       "    </tr>\n",
       "    <tr>\n",
       "      <th>std</th>\n",
       "      <td>57.903089</td>\n",
       "      <td>1.345143e+09</td>\n",
       "    </tr>\n",
       "    <tr>\n",
       "      <th>min</th>\n",
       "      <td>1751.000000</td>\n",
       "      <td>-6.255223e+08</td>\n",
       "    </tr>\n",
       "    <tr>\n",
       "      <th>25%</th>\n",
       "      <td>1932.000000</td>\n",
       "      <td>3.187680e+05</td>\n",
       "    </tr>\n",
       "    <tr>\n",
       "      <th>50%</th>\n",
       "      <td>1971.000000</td>\n",
       "      <td>3.828880e+06</td>\n",
       "    </tr>\n",
       "    <tr>\n",
       "      <th>75%</th>\n",
       "      <td>1995.000000</td>\n",
       "      <td>3.706898e+07</td>\n",
       "    </tr>\n",
       "    <tr>\n",
       "      <th>max</th>\n",
       "      <td>2017.000000</td>\n",
       "      <td>3.615326e+10</td>\n",
       "    </tr>\n",
       "  </tbody>\n",
       "</table>\n",
       "</div>"
      ],
      "text/plain": [
       "               Year  Annual CO₂ emissions (tonnes )\n",
       "count  20853.000000                    2.085300e+04\n",
       "mean    1953.339424                    1.930517e+08\n",
       "std       57.903089                    1.345143e+09\n",
       "min     1751.000000                   -6.255223e+08\n",
       "25%     1932.000000                    3.187680e+05\n",
       "50%     1971.000000                    3.828880e+06\n",
       "75%     1995.000000                    3.706898e+07\n",
       "max     2017.000000                    3.615326e+10"
      ]
     },
     "execution_count": 9,
     "metadata": {},
     "output_type": "execute_result"
    }
   ],
   "source": [
    "# Loading the dataset\n",
    "df = pd.read_csv(\"co2_emission.csv\") \n",
    "df.head() \n",
    "df.isnull().sum() # for missing values\n",
    "\n",
    "df.describe() # for summary\n"
   ]
  },
  {
   "cell_type": "code",
   "execution_count": 14,
   "id": "af947c79-cd87-468b-bf35-592f113ccddb",
   "metadata": {},
   "outputs": [
    {
     "name": "stdout",
     "output_type": "stream",
     "text": [
      "Index(['Entity', 'Code', 'Year', 'CO2_emissions'], dtype='object')\n"
     ]
    }
   ],
   "source": [
    "print(df.columns)"
   ]
  },
  {
   "cell_type": "code",
   "execution_count": 16,
   "id": "49b921fd-b763-4815-a773-081b09d20269",
   "metadata": {},
   "outputs": [
    {
     "data": {
      "text/html": [
       "<div>\n",
       "<style scoped>\n",
       "    .dataframe tbody tr th:only-of-type {\n",
       "        vertical-align: middle;\n",
       "    }\n",
       "\n",
       "    .dataframe tbody tr th {\n",
       "        vertical-align: top;\n",
       "    }\n",
       "\n",
       "    .dataframe thead th {\n",
       "        text-align: right;\n",
       "    }\n",
       "</style>\n",
       "<table border=\"1\" class=\"dataframe\">\n",
       "  <thead>\n",
       "    <tr style=\"text-align: right;\">\n",
       "      <th></th>\n",
       "      <th>Entity</th>\n",
       "      <th>Code</th>\n",
       "      <th>Year</th>\n",
       "      <th>CO2_emissions</th>\n",
       "    </tr>\n",
       "  </thead>\n",
       "  <tbody>\n",
       "    <tr>\n",
       "      <th>10763</th>\n",
       "      <td>Kenya</td>\n",
       "      <td>KEN</td>\n",
       "      <td>1950</td>\n",
       "      <td>908672.00</td>\n",
       "    </tr>\n",
       "    <tr>\n",
       "      <th>10764</th>\n",
       "      <td>Kenya</td>\n",
       "      <td>KEN</td>\n",
       "      <td>1951</td>\n",
       "      <td>1392320.00</td>\n",
       "    </tr>\n",
       "    <tr>\n",
       "      <th>10765</th>\n",
       "      <td>Kenya</td>\n",
       "      <td>KEN</td>\n",
       "      <td>1952</td>\n",
       "      <td>1590176.00</td>\n",
       "    </tr>\n",
       "    <tr>\n",
       "      <th>10766</th>\n",
       "      <td>Kenya</td>\n",
       "      <td>KEN</td>\n",
       "      <td>1953</td>\n",
       "      <td>1513232.00</td>\n",
       "    </tr>\n",
       "    <tr>\n",
       "      <th>10767</th>\n",
       "      <td>Kenya</td>\n",
       "      <td>KEN</td>\n",
       "      <td>1954</td>\n",
       "      <td>1700096.00</td>\n",
       "    </tr>\n",
       "    <tr>\n",
       "      <th>10768</th>\n",
       "      <td>Kenya</td>\n",
       "      <td>KEN</td>\n",
       "      <td>1955</td>\n",
       "      <td>1985888.00</td>\n",
       "    </tr>\n",
       "    <tr>\n",
       "      <th>10769</th>\n",
       "      <td>Kenya</td>\n",
       "      <td>KEN</td>\n",
       "      <td>1956</td>\n",
       "      <td>2220384.00</td>\n",
       "    </tr>\n",
       "    <tr>\n",
       "      <th>10770</th>\n",
       "      <td>Kenya</td>\n",
       "      <td>KEN</td>\n",
       "      <td>1957</td>\n",
       "      <td>2282672.00</td>\n",
       "    </tr>\n",
       "    <tr>\n",
       "      <th>10771</th>\n",
       "      <td>Kenya</td>\n",
       "      <td>KEN</td>\n",
       "      <td>1958</td>\n",
       "      <td>2088480.00</td>\n",
       "    </tr>\n",
       "    <tr>\n",
       "      <th>10772</th>\n",
       "      <td>Kenya</td>\n",
       "      <td>KEN</td>\n",
       "      <td>1959</td>\n",
       "      <td>2208114.22</td>\n",
       "    </tr>\n",
       "  </tbody>\n",
       "</table>\n",
       "</div>"
      ],
      "text/plain": [
       "      Entity Code  Year  CO2_emissions\n",
       "10763  Kenya  KEN  1950      908672.00\n",
       "10764  Kenya  KEN  1951     1392320.00\n",
       "10765  Kenya  KEN  1952     1590176.00\n",
       "10766  Kenya  KEN  1953     1513232.00\n",
       "10767  Kenya  KEN  1954     1700096.00\n",
       "10768  Kenya  KEN  1955     1985888.00\n",
       "10769  Kenya  KEN  1956     2220384.00\n",
       "10770  Kenya  KEN  1957     2282672.00\n",
       "10771  Kenya  KEN  1958     2088480.00\n",
       "10772  Kenya  KEN  1959     2208114.22"
      ]
     },
     "execution_count": 16,
     "metadata": {},
     "output_type": "execute_result"
    }
   ],
   "source": [
    "selected_columns = ['Entity', 'Code', 'Year', 'CO2_emissions']\n",
    "\n",
    "df_selected = df[selected_columns]\n",
    "df_selected = df_selected[df_selected['Entity'] =='Kenya']\n",
    "df_selected.head(10)\n",
    "selected_columns = ['Entity', 'Code', 'Year', 'CO2_emissions']\n",
    "\n",
    "df_selected = df[selected_columns]\n",
    "df_selected = df_selected[df_selected['Entity'] =='Kenya']\n",
    "df_selected.head(10)\n",
    "                "
   ]
  },
  {
   "cell_type": "code",
   "execution_count": 23,
   "id": "c11ebbe1-90d9-423f-a168-0c408df9b7ac",
   "metadata": {},
   "outputs": [],
   "source": [
    "X = df_selected[['Year']] # Feature\n",
    "y = df_selected['CO2_emissions'] # Target Variable"
   ]
  },
  {
   "cell_type": "code",
   "execution_count": 24,
   "id": "9b212d77-05b8-46d5-85e4-ae7cfce29121",
   "metadata": {},
   "outputs": [
    {
     "name": "stdout",
     "output_type": "stream",
     "text": [
      "Mean Squared Error: 1848491078563.3416\n",
      "R-Squared:0.8969045267432529\n"
     ]
    }
   ],
   "source": [
    "# 80% Training and 20% testing\n",
    "X_train, X_test, y_train, y_test = train_test_split(\n",
    "    X, y, test_size=0.2, random_state=42\n",
    ")\n",
    "\n",
    "# Train the model\n",
    "model = LinearRegression()\n",
    "model.fit(X_train, y_train)\n",
    "\n",
    "# Evaluation\n",
    "y_pred = model.predict(X_test)\n",
    "mse = mean_squared_error(y_test, y_pred)\n",
    "r2 = r2_score(y_test, y_pred)\n",
    "\n",
    "print(f\"Mean Squared Error: {mse}\")\n",
    "print(f\"R-Squared:{r2}\")"
   ]
  },
  {
   "cell_type": "code",
   "execution_count": null,
   "id": "d5a8acb7-e219-4e6b-a7d6-084a43834e2e",
   "metadata": {},
   "outputs": [],
   "source": [
    "# "
   ]
  }
 ],
 "metadata": {
  "kernelspec": {
   "display_name": "anaconda-panel-2023.05-py310",
   "language": "python",
   "name": "conda-env-anaconda-panel-2023.05-py310-py"
  },
  "language_info": {
   "codemirror_mode": {
    "name": "ipython",
    "version": 3
   },
   "file_extension": ".py",
   "mimetype": "text/x-python",
   "name": "python",
   "nbconvert_exporter": "python",
   "pygments_lexer": "ipython3",
   "version": "3.11.5"
  }
 },
 "nbformat": 4,
 "nbformat_minor": 5
}
